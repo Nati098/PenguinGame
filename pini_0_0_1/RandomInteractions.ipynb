{
 "cells": [
  {
   "cell_type": "code",
   "execution_count": 1,
   "metadata": {},
   "outputs": [],
   "source": [
    "import matplotlib.pyplot as plt\n",
    "from bica import *"
   ]
  },
  {
   "cell_type": "code",
   "execution_count": 2,
   "metadata": {},
   "outputs": [],
   "source": [
    "import numpy as np"
   ]
  },
  {
   "cell_type": "code",
   "execution_count": 3,
   "metadata": {},
   "outputs": [],
   "source": [
    "from random import *"
   ]
  },
  {
   "cell_type": "code",
   "execution_count": 4,
   "metadata": {},
   "outputs": [],
   "source": [
    "NUM_OF_ACTS = 50000"
   ]
  },
  {
   "cell_type": "code",
   "execution_count": 5,
   "metadata": {},
   "outputs": [],
   "source": [
    "bica = Bica()\n",
    "pen_states = np.empty((2,0))\n",
    "hand_states= np.empty((2,0))\n",
    "bica_actions = [\"boot\",\"food\",\"balls\",\"tickle\",\"pat\",\"threaten\",\"hill\",\"matress\",\"cave\",\"wake\",\"fish\"]\n",
    "                \n"
   ]
  },
  {
   "cell_type": "markdown",
   "metadata": {},
   "source": [
    "for i in range(NUM_OF_ACTS):\n",
    "    bica_pen = np.array([[bica.pen_state[0]], [bica.pen_state[1]]], dtype=float)\n",
    "    bica_hand = np.array([[bica.hand_state[0]], [bica.hand_state[1]]], dtype=float)\n",
    "    pen_states = np.append(pen_states, bica_pen, 1)\n",
    "    hand_states = np.append(hand_states, bica_hand, 1)\n",
    "    rnd = randint(0,len(bica_actions)-1)\n",
    "    bica.interact(bica_actions[rnd])\n",
    "print(pen_states)"
   ]
  },
  {
   "cell_type": "code",
   "execution_count": 6,
   "metadata": {},
   "outputs": [
    {
     "name": "stdout",
     "output_type": "stream",
     "text": [
      "['pat', 'tickle']\n"
     ]
    }
   ],
   "source": [
    "for i in range(NUM_OF_ACTS):\n",
    "    bica_pen = np.array([[bica.pen_state[0]], [bica.pen_state[1]]], dtype=float)\n",
    "    bica_hand = np.array([[bica.hand_state[0]], [bica.hand_state[1]]], dtype=float)\n",
    "    pen_states = np.append(pen_states, bica_pen, 1)\n",
    "    hand_states = np.append(hand_states, bica_hand, 1)\n",
    "    results = { i : bica.get_distance_after(i) for i in bica_actions }\n",
    "    values = np.array(list(results.values()), dtype=float)\n",
    "    mean = np.mean(values)\n",
    "    sd = np.std(values)\n",
    "    #min_res = min([i for i in results.values()])\n",
    "    min_acts = [i for i in results.keys() if results[i] < mean]\n",
    "    rnd = randint(0,len(min_acts)-1)\n",
    "    bica.interact(min_acts[rnd])\n",
    "print(min_acts)"
   ]
  },
  {
   "cell_type": "code",
   "execution_count": 7,
   "metadata": {},
   "outputs": [
    {
     "data": {
      "image/png": "[encoded data removed]",
      "text/plain": [
       "<Figure size 432x288 with 1 Axes>"
      ]
     },
     "metadata": {},
     "output_type": "display_data"
    }
   ],
   "source": [
    "plt.plot(pen_states[0],pen_states[1])\n",
    "plt.plot(hand_states[0],hand_states[1])\n",
    "plt.savefig(\"states.png\")"
   ]
  },
  {
   "cell_type": "code",
   "execution_count": null,
   "metadata": {},
   "outputs": [],
   "source": []
  }
 ],
 "metadata": {
  "kernelspec": {
   "display_name": "Python 3",
   "language": "python",
   "name": "python3"
  },
  "language_info": {
   "codemirror_mode": {
    "name": "ipython",
    "version": 3
   },
   "file_extension": ".py",
   "mimetype": "text/x-python",
   "name": "python",
   "nbconvert_exporter": "python",
   "pygments_lexer": "ipython3",
   "version": "3.6.5"
  }
 },
 "nbformat": 4,
 "nbformat_minor": 2
}
